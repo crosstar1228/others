{
  "nbformat": 4,
  "nbformat_minor": 0,
  "metadata": {
    "colab": {
      "name": "How_to_use_Colab_in_local_ide.ipynb",
      "provenance": []
    },
    "kernelspec": {
      "name": "python3",
      "display_name": "Python 3"
    },
    "language_info": {
      "name": "python"
    }
  },
  "cells": [
    {
      "cell_type": "markdown",
      "source": [
        "[참고 블로그 링크](https://velog.io/@taki0412/%EA%B5%AC%EA%B8%80-Colab-%EC%84%9C%EB%B2%84%EB%A5%BC-%EB%A1%9C%EC%BB%AC%EC%97%90%EC%84%9C-%EC%82%AC%EC%9A%A9%ED%95%98%EA%B8%B0)\n",
        "\n",
        "[VS code에서 Colab GPU 사용하기 동영상](https://youtu.be/oAKxxLy-G5g)"
      ],
      "metadata": {
        "id": "cTXvQsocXPHT"
      }
    },
    {
      "cell_type": "markdown",
      "source": [
        "[ngrok 사이트](https://dashboard.ngrok.com/get-started/setup)"
      ],
      "metadata": {
        "id": "4tEvA8ddYHeI"
      }
    },
    {
      "cell_type": "code",
      "source": [
        "NGROK_TOKEN = '22g2cFnUFlbc9wJllBFNUnAcQWL_3jyc1mgYgg8z7CVo8XNSL' #nrog 사이트에서 확인한 토큰\n",
        "PASSWORD = 'tjdwp357159*'"
      ],
      "metadata": {
        "id": "CUQJE0WbHxLI"
      },
      "execution_count": null,
      "outputs": []
    },
    {
      "cell_type": "code",
      "source": [
        "!pip install colab-ssh"
      ],
      "metadata": {
        "colab": {
          "base_uri": "https://localhost:8080/"
        },
        "id": "MKSYKy4MRK-Z",
        "outputId": "8d493ef9-8de1-4c20-ab44-e2daaaf7cec9"
      },
      "execution_count": null,
      "outputs": [
        {
          "output_type": "stream",
          "name": "stdout",
          "text": [
            "Collecting colab-ssh\n",
            "  Downloading colab_ssh-0.3.27-py3-none-any.whl (26 kB)\n",
            "Installing collected packages: colab-ssh\n",
            "Successfully installed colab-ssh-0.3.27\n"
          ]
        }
      ]
    },
    {
      "cell_type": "code",
      "source": [
        "from colab_ssh import launch_ssh\n",
        "launch_ssh(NGROK_TOKEN, PASSWORD)"
      ],
      "metadata": {
        "colab": {
          "base_uri": "https://localhost:8080/"
        },
        "id": "8zI8TeLZScMB",
        "outputId": "9de595fc-7154-4f27-98e5-b2ca354d447b"
      },
      "execution_count": null,
      "outputs": [
        {
          "output_type": "stream",
          "name": "stdout",
          "text": [
            "Warning: Due to some issues with ngrok on Google Colab, reported in the issue https://github.com/WassimBenzarti/colab-ssh/issues/45, \n",
            "we highly recommend that update your code by following this documentation https://github.com/WassimBenzarti/colab-ssh#getting-started\n",
            "Successfully running 8.tcp.ngrok.io:15573\n",
            "[Optional] You can also connect with VSCode SSH Remote extension using this configuration:\n",
            "\n",
            "  Host google_colab_ssh\n",
            "    HostName 8.tcp.ngrok.io\n",
            "    User root\n",
            "    Port 15573\n",
            "    \n"
          ]
        }
      ]
    },
    {
      "cell_type": "markdown",
      "source": [
        "## 이후 절차\n",
        "- 블로그 참고하여 python ide 환경에서 연결"
      ],
      "metadata": {
        "id": "yTV1ihgVXViZ"
      }
    }
  ]
}