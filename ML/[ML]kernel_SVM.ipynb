{
  "nbformat": 4,
  "nbformat_minor": 0,
  "metadata": {
    "colab": {
      "name": "[ML]kernel_SVM.ipynb",
      "provenance": [],
      "collapsed_sections": []
    },
    "kernelspec": {
      "name": "python3",
      "display_name": "Python 3"
    },
    "language_info": {
      "name": "python"
    },
    "accelerator": "GPU"
  },
  "cells": [
    {
      "cell_type": "markdown",
      "metadata": {
        "id": "zYriiK-iCVk3"
      },
      "source": [
        "[참고 블로그](https://jfun.tistory.com/111)\n",
        "\n",
        "nonlinear decision boundary, 즉 비선형 분류 문제를 해결하기 위한 kernel SVM을 실습해봅시다."
      ]
    },
    {
      "cell_type": "code",
      "metadata": {
        "id": "PyKNZzjVCaN9"
      },
      "source": [
        "import numpy as np\n",
        "import pandas as pd\n",
        "import matplotlib.pyplot as plt\n",
        "from sklearn.model_selection import train_test_split"
      ],
      "execution_count": 2,
      "outputs": []
    },
    {
      "cell_type": "code",
      "metadata": {
        "colab": {
          "base_uri": "https://localhost:8080/",
          "height": 334
        },
        "id": "Np1zt-DaCmzA",
        "outputId": "6f4ba3a8-2c78-4454-e8d5-2b5d17b74998"
      },
      "source": [
        "from sklearn.datasets import make_circles\n",
        "\n",
        "X, y = make_circles(factor=0.5, noise=0.1) # factor = R1/R2, noise: svd\n",
        "\n",
        "print(X.shape, y)\n",
        "\n",
        "plt.scatter(X[:,0], X[:,1], c=y, cmap='autumn')\n",
        "plt.colorbar(shrink=0.7)"
      ],
      "execution_count": 5,
      "outputs": [
        {
          "output_type": "stream",
          "name": "stdout",
          "text": [
            "(100, 2) [1 0 0 1 0 0 0 1 1 1 0 1 0 0 1 1 1 1 1 0 0 1 0 1 1 0 1 1 1 0 1 1 0 0 0 1 0\n",
            " 0 1 0 1 0 0 1 0 0 1 0 1 0 1 0 0 1 0 1 0 1 1 0 0 0 0 1 0 0 0 0 1 1 1 0 0 0\n",
            " 0 0 1 0 1 0 1 0 0 0 0 1 1 0 1 1 1 1 1 1 1 1 1 1 1 0]\n"
          ]
        },
        {
          "output_type": "execute_result",
          "data": {
            "text/plain": [
              "<matplotlib.colorbar.Colorbar at 0x7f04f73bf590>"
            ]
          },
          "metadata": {},
          "execution_count": 5
        },
        {
          "output_type": "display_data",
          "data": {
            "image/png": "[encoded data removed]",
            "text/plain": [
              "<Figure size 432x288 with 2 Axes>"
            ]
          },
          "metadata": {
            "needs_background": "light"
          }
        }
      ]
    },
    {
      "cell_type": "markdown",
      "metadata": {
        "id": "_Kwt8e_dFJgA"
      },
      "source": [
        "X :  각 점의 좌표를 의미   \n",
        "y : label"
      ]
    },
    {
      "cell_type": "code",
      "metadata": {
        "id": "AN8EmFqMEilQ"
      },
      "source": [
        "print(X[:,0]) #x1 좌표\n",
        "print(X[:,1]) #x2 좌표\n",
        "print(y.shape)"
      ],
      "execution_count": null,
      "outputs": []
    },
    {
      "cell_type": "markdown",
      "metadata": {
        "id": "d4kl1eimCz3h"
      },
      "source": [
        "선형 함수로 두 클래스 구분은 불가하지만, 중심으로부터의 거리로 구분할 수 있을 것 같습니다. 이에 $$x_1^2 + x_2^2$$ 를 새로운 feature로 추가해 보겠습니다."
      ]
    },
    {
      "cell_type": "code",
      "metadata": {
        "colab": {
          "base_uri": "https://localhost:8080/",
          "height": 121
        },
        "id": "87GdQV48Daf1",
        "outputId": "46d6601f-b965-4df3-dcf5-b2e4fc5bc087"
      },
      "source": [
        "new_col = X[:,0]**2 + X[:,1]**2\n",
        "X_new = np.c_[X,new_col] #np_c 로 column 하나 추가\n",
        "\n",
        "display(X_new.shape, X_new[:5])"
      ],
      "execution_count": 6,
      "outputs": [
        {
          "output_type": "display_data",
          "data": {
            "text/plain": [
              "(100, 3)"
            ]
          },
          "metadata": {}
        },
        {
          "output_type": "display_data",
          "data": {
            "text/plain": [
              "array([[-0.23766012, -0.59901286,  0.41529874],\n",
              "       [ 0.96383933,  0.14210283,  0.94917947],\n",
              "       [-1.11613286,  0.35514126,  1.37187787],\n",
              "       [-0.47494006,  0.31683142,  0.32595021],\n",
              "       [-0.85856119, -0.43509857,  0.92643808]])"
            ]
          },
          "metadata": {}
        }
      ]
    },
    {
      "cell_type": "markdown",
      "metadata": {
        "id": "ru9HNjHpGK3_"
      },
      "source": [
        "아래와 같이 classification이 가능하게 되었습니다."
      ]
    },
    {
      "cell_type": "code",
      "metadata": {
        "colab": {
          "base_uri": "https://localhost:8080/",
          "height": 282
        },
        "id": "Tmiq9SRDDrqG",
        "outputId": "a1234127-3692-4bca-860c-c5ac7197d5e1"
      },
      "source": [
        "plt.scatter(new_col, y, c=y, alpha=0.3)\n",
        "plt.vlines([new_col[y==1].max(), new_col[y==0].min()], 0, 1, linestyles='dotted')"
      ],
      "execution_count": 11,
      "outputs": [
        {
          "output_type": "execute_result",
          "data": {
            "text/plain": [
              "<matplotlib.collections.LineCollection at 0x7f04f32238d0>"
            ]
          },
          "metadata": {},
          "execution_count": 11
        },
        {
          "output_type": "display_data",
          "data": {
            "image/png": "[encoded data removed]",
            "text/plain": [
              "<Figure size 432x288 with 1 Axes>"
            ]
          },
          "metadata": {
            "needs_background": "light"
          }
        }
      ]
    },
    {
      "cell_type": "markdown",
      "metadata": {
        "id": "8FMGLjeGGSo8"
      },
      "source": [
        "직접 feature 적용 여부에 따른 정확도 측정으로도 비교를 해보겠습니다."
      ]
    },
    {
      "cell_type": "code",
      "metadata": {
        "colab": {
          "base_uri": "https://localhost:8080/",
          "height": 34
        },
        "id": "3J2Yv0lbGBd5",
        "outputId": "fc37286f-21e3-4576-81fc-7fc5bbc588f5"
      },
      "source": [
        "# x1, x2 적용\n",
        "from sklearn.svm import LinearSVC\n",
        "\n",
        "model = LinearSVC()\n",
        "model.fit(X, y)\n",
        "\n",
        "score = model.score(X,y)\n",
        "display(score)"
      ],
      "execution_count": 12,
      "outputs": [
        {
          "output_type": "display_data",
          "data": {
            "text/plain": [
              "0.53"
            ]
          },
          "metadata": {}
        }
      ]
    },
    {
      "cell_type": "code",
      "metadata": {
        "colab": {
          "base_uri": "https://localhost:8080/",
          "height": 34
        },
        "id": "ZSgmDdtSGSFb",
        "outputId": "e9197ebd-f314-4964-d396-337d78cf3b51"
      },
      "source": [
        "#  (x^1+x^2)  1가지 feature적용\n",
        "from sklearn.svm import LinearSVC\n",
        "\n",
        "model = LinearSVC()\n",
        "model.fit(new_col.reshape(-1,1), y)\n",
        "\n",
        "score = model.score(new_col.reshape(-1,1),y)\n",
        "display(score)"
      ],
      "execution_count": 13,
      "outputs": [
        {
          "output_type": "display_data",
          "data": {
            "text/plain": [
              "0.98"
            ]
          },
          "metadata": {}
        }
      ]
    },
    {
      "cell_type": "code",
      "metadata": {
        "colab": {
          "base_uri": "https://localhost:8080/",
          "height": 34
        },
        "id": "SPyHk3fJGp8U",
        "outputId": "e3ae234f-3b74-4516-be8c-311f6f0822b4"
      },
      "source": [
        "# x1, x2, x^1+x^2 3가지 feature 적용\n",
        "from sklearn.svm import LinearSVC\n",
        "\n",
        "model = LinearSVC()\n",
        "model.fit(X_new, y)\n",
        "\n",
        "score = model.score(X_new,y)\n",
        "display(score)"
      ],
      "execution_count": 14,
      "outputs": [
        {
          "output_type": "display_data",
          "data": {
            "text/plain": [
              "0.99"
            ]
          },
          "metadata": {}
        }
      ]
    },
    {
      "cell_type": "markdown",
      "metadata": {
        "id": "j4mZVZMMHbAf"
      },
      "source": [
        "iris dataset을 들고 와서 제대로 해보겠습니다.\n",
        "\n",
        "SVC에서 multiclass SVM, kernel SVM 다 포함되어 있는 것 같네요.\n",
        "\n",
        "3 class multiclass classification입니다."
      ]
    },
    {
      "cell_type": "code",
      "metadata": {
        "colab": {
          "base_uri": "https://localhost:8080/",
          "height": 52
        },
        "id": "PVmBNbf1HJmg",
        "outputId": "ba2ad61e-9fc6-48dc-b335-036a46e50629"
      },
      "source": [
        "from sklearn.datasets import load_iris\n",
        "from sklearn.svm import SVC\n",
        "\n",
        "iris = load_iris()\n",
        "\n",
        "col1 = 0\n",
        "col2 = 1\n",
        "\n",
        "X = iris.data[:,[col1,col2]] # 시각화를 위해 속성 2개만 선정\n",
        "y = iris.target\n",
        "\n",
        "# 학습용/테스트용 데이터 분리\n",
        "X_train, X_test, y_train, y_test = train_test_split(X, y)\n",
        "X_train.shape, X_test.shape, y_train.shape, y_test.shape\n",
        "\n",
        "# 모델 정의\n",
        "model = SVC()\n",
        "\n",
        "# 학습시키기\n",
        "model.fit(X_train, y_train)\n",
        "\n",
        "# 평가하기\n",
        "score1 = model.score(X_train, y_train)\n",
        "score2 = model.score(X_test, y_test)\n",
        "display(score1, score2)"
      ],
      "execution_count": 15,
      "outputs": [
        {
          "output_type": "display_data",
          "data": {
            "text/plain": [
              "0.8571428571428571"
            ]
          },
          "metadata": {}
        },
        {
          "output_type": "display_data",
          "data": {
            "text/plain": [
              "0.7368421052631579"
            ]
          },
          "metadata": {}
        }
      ]
    },
    {
      "cell_type": "code",
      "metadata": {
        "colab": {
          "base_uri": "https://localhost:8080/"
        },
        "id": "m_wijhBLH-tE",
        "outputId": "3dba64e1-877d-47aa-d5ec-2f002b9d0509"
      },
      "source": [
        "#pip install mglearn"
      ],
      "execution_count": 17,
      "outputs": [
        {
          "output_type": "stream",
          "name": "stdout",
          "text": [
            "Collecting mglearn\n",
            "  Downloading mglearn-0.1.9.tar.gz (540 kB)\n",
            "\u001b[?25l\r\u001b[K     |▋                               | 10 kB 31.5 MB/s eta 0:00:01\r\u001b[K     |█▏                              | 20 kB 33.5 MB/s eta 0:00:01\r\u001b[K     |█▉                              | 30 kB 20.0 MB/s eta 0:00:01\r\u001b[K     |██▍                             | 40 kB 15.7 MB/s eta 0:00:01\r\u001b[K     |███                             | 51 kB 9.1 MB/s eta 0:00:01\r\u001b[K     |███▋                            | 61 kB 9.5 MB/s eta 0:00:01\r\u001b[K     |████▎                           | 71 kB 9.3 MB/s eta 0:00:01\r\u001b[K     |████▉                           | 81 kB 10.3 MB/s eta 0:00:01\r\u001b[K     |█████▌                          | 92 kB 10.4 MB/s eta 0:00:01\r\u001b[K     |██████                          | 102 kB 8.5 MB/s eta 0:00:01\r\u001b[K     |██████▊                         | 112 kB 8.5 MB/s eta 0:00:01\r\u001b[K     |███████▎                        | 122 kB 8.5 MB/s eta 0:00:01\r\u001b[K     |███████▉                        | 133 kB 8.5 MB/s eta 0:00:01\r\u001b[K     |████████▌                       | 143 kB 8.5 MB/s eta 0:00:01\r\u001b[K     |█████████                       | 153 kB 8.5 MB/s eta 0:00:01\r\u001b[K     |█████████▊                      | 163 kB 8.5 MB/s eta 0:00:01\r\u001b[K     |██████████▎                     | 174 kB 8.5 MB/s eta 0:00:01\r\u001b[K     |███████████                     | 184 kB 8.5 MB/s eta 0:00:01\r\u001b[K     |███████████▌                    | 194 kB 8.5 MB/s eta 0:00:01\r\u001b[K     |████████████▏                   | 204 kB 8.5 MB/s eta 0:00:01\r\u001b[K     |████████████▊                   | 215 kB 8.5 MB/s eta 0:00:01\r\u001b[K     |█████████████▍                  | 225 kB 8.5 MB/s eta 0:00:01\r\u001b[K     |██████████████                  | 235 kB 8.5 MB/s eta 0:00:01\r\u001b[K     |██████████████▋                 | 245 kB 8.5 MB/s eta 0:00:01\r\u001b[K     |███████████████▏                | 256 kB 8.5 MB/s eta 0:00:01\r\u001b[K     |███████████████▊                | 266 kB 8.5 MB/s eta 0:00:01\r\u001b[K     |████████████████▍               | 276 kB 8.5 MB/s eta 0:00:01\r\u001b[K     |█████████████████               | 286 kB 8.5 MB/s eta 0:00:01\r\u001b[K     |█████████████████▋              | 296 kB 8.5 MB/s eta 0:00:01\r\u001b[K     |██████████████████▏             | 307 kB 8.5 MB/s eta 0:00:01\r\u001b[K     |██████████████████▉             | 317 kB 8.5 MB/s eta 0:00:01\r\u001b[K     |███████████████████▍            | 327 kB 8.5 MB/s eta 0:00:01\r\u001b[K     |████████████████████            | 337 kB 8.5 MB/s eta 0:00:01\r\u001b[K     |████████████████████▋           | 348 kB 8.5 MB/s eta 0:00:01\r\u001b[K     |█████████████████████▎          | 358 kB 8.5 MB/s eta 0:00:01\r\u001b[K     |█████████████████████▉          | 368 kB 8.5 MB/s eta 0:00:01\r\u001b[K     |██████████████████████▌         | 378 kB 8.5 MB/s eta 0:00:01\r\u001b[K     |███████████████████████         | 389 kB 8.5 MB/s eta 0:00:01\r\u001b[K     |███████████████████████▋        | 399 kB 8.5 MB/s eta 0:00:01\r\u001b[K     |████████████████████████▎       | 409 kB 8.5 MB/s eta 0:00:01\r\u001b[K     |████████████████████████▉       | 419 kB 8.5 MB/s eta 0:00:01\r\u001b[K     |█████████████████████████▌      | 430 kB 8.5 MB/s eta 0:00:01\r\u001b[K     |██████████████████████████      | 440 kB 8.5 MB/s eta 0:00:01\r\u001b[K     |██████████████████████████▊     | 450 kB 8.5 MB/s eta 0:00:01\r\u001b[K     |███████████████████████████▎    | 460 kB 8.5 MB/s eta 0:00:01\r\u001b[K     |████████████████████████████    | 471 kB 8.5 MB/s eta 0:00:01\r\u001b[K     |████████████████████████████▌   | 481 kB 8.5 MB/s eta 0:00:01\r\u001b[K     |█████████████████████████████▏  | 491 kB 8.5 MB/s eta 0:00:01\r\u001b[K     |█████████████████████████████▊  | 501 kB 8.5 MB/s eta 0:00:01\r\u001b[K     |██████████████████████████████▍ | 512 kB 8.5 MB/s eta 0:00:01\r\u001b[K     |███████████████████████████████ | 522 kB 8.5 MB/s eta 0:00:01\r\u001b[K     |███████████████████████████████▌| 532 kB 8.5 MB/s eta 0:00:01\r\u001b[K     |████████████████████████████████| 540 kB 8.5 MB/s \n",
            "\u001b[?25hRequirement already satisfied: numpy in /usr/local/lib/python3.7/dist-packages (from mglearn) (1.19.5)\n",
            "Requirement already satisfied: matplotlib in /usr/local/lib/python3.7/dist-packages (from mglearn) (3.2.2)\n",
            "Requirement already satisfied: scikit-learn in /usr/local/lib/python3.7/dist-packages (from mglearn) (0.22.2.post1)\n",
            "Requirement already satisfied: pandas in /usr/local/lib/python3.7/dist-packages (from mglearn) (1.1.5)\n",
            "Requirement already satisfied: pillow in /usr/local/lib/python3.7/dist-packages (from mglearn) (7.1.2)\n",
            "Requirement already satisfied: cycler in /usr/local/lib/python3.7/dist-packages (from mglearn) (0.10.0)\n",
            "Requirement already satisfied: imageio in /usr/local/lib/python3.7/dist-packages (from mglearn) (2.4.1)\n",
            "Requirement already satisfied: joblib in /usr/local/lib/python3.7/dist-packages (from mglearn) (1.0.1)\n",
            "Requirement already satisfied: six in /usr/local/lib/python3.7/dist-packages (from cycler->mglearn) (1.15.0)\n",
            "Requirement already satisfied: kiwisolver>=1.0.1 in /usr/local/lib/python3.7/dist-packages (from matplotlib->mglearn) (1.3.2)\n",
            "Requirement already satisfied: python-dateutil>=2.1 in /usr/local/lib/python3.7/dist-packages (from matplotlib->mglearn) (2.8.2)\n",
            "Requirement already satisfied: pyparsing!=2.0.4,!=2.1.2,!=2.1.6,>=2.0.1 in /usr/local/lib/python3.7/dist-packages (from matplotlib->mglearn) (2.4.7)\n",
            "Requirement already satisfied: pytz>=2017.2 in /usr/local/lib/python3.7/dist-packages (from pandas->mglearn) (2018.9)\n",
            "Requirement already satisfied: scipy>=0.17.0 in /usr/local/lib/python3.7/dist-packages (from scikit-learn->mglearn) (1.4.1)\n",
            "Building wheels for collected packages: mglearn\n",
            "  Building wheel for mglearn (setup.py) ... \u001b[?25l\u001b[?25hdone\n",
            "  Created wheel for mglearn: filename=mglearn-0.1.9-py2.py3-none-any.whl size=582637 sha256=60ca450070a72dc4a473a40ddac5d7bf68d41eb9d3b4d6229514c06b2de42ec2\n",
            "  Stored in directory: /root/.cache/pip/wheels/f1/17/e1/1720d6dcd70187b6b6c3750cb3508798f2b1d57c9d3214b08b\n",
            "Successfully built mglearn\n",
            "Installing collected packages: mglearn\n",
            "Successfully installed mglearn-0.1.9\n"
          ]
        }
      ]
    },
    {
      "cell_type": "code",
      "metadata": {
        "colab": {
          "base_uri": "https://localhost:8080/",
          "height": 521
        },
        "id": "E_B9wUsoHYso",
        "outputId": "0885c943-6ae7-4fcb-cb12-4213e878dd5d"
      },
      "source": [
        "import mglearn\n",
        "\n",
        "plt.figure(figsize=[10,8])\n",
        "mglearn.plots.plot_2d_classification(model, X_train, cm='spring')\n",
        "mglearn.discrete_scatter(X_train[:,0], X_train[:,1], y_train)"
      ],
      "execution_count": 18,
      "outputs": [
        {
          "output_type": "execute_result",
          "data": {
            "text/plain": [
              "[<matplotlib.lines.Line2D at 0x7f04ef989650>,\n",
              " <matplotlib.lines.Line2D at 0x7f04edbf18d0>,\n",
              " <matplotlib.lines.Line2D at 0x7f04edbf1e10>]"
            ]
          },
          "metadata": {},
          "execution_count": 18
        },
        {
          "output_type": "display_data",
          "data": {
            "image/png": "[encoded data removed]",
            "text/plain": [
              "<Figure size 720x576 with 1 Axes>"
            ]
          },
          "metadata": {}
        }
      ]
    },
    {
      "cell_type": "markdown",
      "metadata": {
        "id": "Y4kSvmyjIufF"
      },
      "source": [
        "C값을 줄여보자.-> underfitting 됨"
      ]
    },
    {
      "cell_type": "code",
      "metadata": {
        "colab": {
          "base_uri": "https://localhost:8080/",
          "height": 539
        },
        "id": "2JU0hlq4H81p",
        "outputId": "82135cf8-739b-4848-eeb4-1462d92b46fb"
      },
      "source": [
        "# 모델 정의\n",
        "model = SVC(C=0.1) # C값에 민감하게 그래프가 변한다.\n",
        "\n",
        "# 학습시키기\n",
        "model.fit(X_train, y_train)\n",
        "\n",
        "# 평가하기\n",
        "score = model.score(X_test, y_test)\n",
        "display(score)\n",
        "\n",
        "plt.figure(figsize=[10,8])\n",
        "mglearn.plots.plot_2d_classification(model, X_train, eps=0.5, cm='spring')\n",
        "mglearn.discrete_scatter(X_test[:,0], X_test[:,1], y_test)"
      ],
      "execution_count": 19,
      "outputs": [
        {
          "output_type": "display_data",
          "data": {
            "text/plain": [
              "0.6578947368421053"
            ]
          },
          "metadata": {}
        },
        {
          "output_type": "execute_result",
          "data": {
            "text/plain": [
              "[<matplotlib.lines.Line2D at 0x7f04ed4be410>,\n",
              " <matplotlib.lines.Line2D at 0x7f04ed4bef90>,\n",
              " <matplotlib.lines.Line2D at 0x7f04ed4c9310>]"
            ]
          },
          "metadata": {},
          "execution_count": 19
        },
        {
          "output_type": "display_data",
          "data": {
            "image/png": "[encoded data removed]",
            "text/plain": [
              "<Figure size 720x576 with 1 Axes>"
            ]
          },
          "metadata": {}
        }
      ]
    },
    {
      "cell_type": "markdown",
      "metadata": {
        "id": "sBiEG_XOJQ1R"
      },
      "source": [
        "C값을 늘여보자.-> overfitting 됨"
      ]
    },
    {
      "cell_type": "code",
      "metadata": {
        "colab": {
          "base_uri": "https://localhost:8080/",
          "height": 539
        },
        "id": "2MfKuyB7JJwk",
        "outputId": "0df6f452-6268-4fef-ae78-87f11fb71af1"
      },
      "source": [
        "# 모델 정의\n",
        "model = SVC(C=200) # C값에 민감하게 그래프가 변한다.\n",
        "\n",
        "# 학습시키기\n",
        "model.fit(X_train, y_train)\n",
        "\n",
        "# 평가하기\n",
        "score = model.score(X_test, y_test)\n",
        "display(score)\n",
        "\n",
        "plt.figure(figsize=[10,8])\n",
        "mglearn.plots.plot_2d_classification(model, X_train, eps=0.5, cm='spring')\n",
        "mglearn.discrete_scatter(X_test[:,0], X_test[:,1], y_test)"
      ],
      "execution_count": 21,
      "outputs": [
        {
          "output_type": "display_data",
          "data": {
            "text/plain": [
              "0.7105263157894737"
            ]
          },
          "metadata": {}
        },
        {
          "output_type": "execute_result",
          "data": {
            "text/plain": [
              "[<matplotlib.lines.Line2D at 0x7f04ed45bc50>,\n",
              " <matplotlib.lines.Line2D at 0x7f04ed464350>,\n",
              " <matplotlib.lines.Line2D at 0x7f04ed464890>]"
            ]
          },
          "metadata": {},
          "execution_count": 21
        },
        {
          "output_type": "display_data",
          "data": {
            "image/png": "[encoded data removed]",
            "text/plain": [
              "<Figure size 720x576 with 1 Axes>"
            ]
          },
          "metadata": {}
        }
      ]
    }
  ]
}